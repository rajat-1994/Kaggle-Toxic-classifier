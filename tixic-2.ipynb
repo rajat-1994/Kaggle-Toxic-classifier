{
 "cells": [
  {
   "cell_type": "code",
   "execution_count": 1,
   "metadata": {},
   "outputs": [
    {
     "name": "stderr",
     "output_type": "stream",
     "text": [
      "/home/ubuntu/anaconda3/envs/tensorflow_p27/lib/python2.7/site-packages/matplotlib/__init__.py:962: UserWarning: Duplicate key in file \"/home/ubuntu/.config/matplotlib/matplotlibrc\", line #2\n",
      "  (fname, cnt))\n",
      "/home/ubuntu/anaconda3/envs/tensorflow_p27/lib/python2.7/site-packages/matplotlib/__init__.py:962: UserWarning: Duplicate key in file \"/home/ubuntu/.config/matplotlib/matplotlibrc\", line #3\n",
      "  (fname, cnt))\n",
      "/home/ubuntu/anaconda3/envs/tensorflow_p27/lib/python2.7/site-packages/h5py/__init__.py:36: FutureWarning: Conversion of the second argument of issubdtype from `float` to `np.floating` is deprecated. In future, it will be treated as `np.float64 == np.dtype(float).type`.\n",
      "  from ._conv import register_converters as _register_converters\n",
      "Using TensorFlow backend.\n"
     ]
    }
   ],
   "source": [
    "\n",
    "\n",
    "import sys, os, re, csv, codecs, numpy as np, pandas as pd\n",
    "\n",
    "from keras.preprocessing.text import Tokenizer\n",
    "from keras.preprocessing.sequence import pad_sequences\n",
    "from keras.layers import Dense, Input, LSTM, Embedding, Dropout, Activation\n",
    "from keras.layers import Bidirectional, GlobalMaxPool1D\n",
    "from keras.models import Model\n",
    "from keras import initializers, regularizers, constraints, optimizers, layers\n",
    "\n"
   ]
  },
  {
   "cell_type": "code",
   "execution_count": 2,
   "metadata": {},
   "outputs": [
    {
     "name": "stdout",
     "output_type": "stream",
     "text": [
      "--2018-03-20 16:05:04--  http://nlp.stanford.edu/data/glove.6B.zip\n",
      "Resolving nlp.stanford.edu (nlp.stanford.edu)... 171.64.67.140\n",
      "Connecting to nlp.stanford.edu (nlp.stanford.edu)|171.64.67.140|:80... connected.\n",
      "HTTP request sent, awaiting response... 302 Found\n",
      "Location: https://nlp.stanford.edu/data/glove.6B.zip [following]\n",
      "--2018-03-20 16:05:04--  https://nlp.stanford.edu/data/glove.6B.zip\n",
      "Connecting to nlp.stanford.edu (nlp.stanford.edu)|171.64.67.140|:443... connected.\n",
      "HTTP request sent, awaiting response... 200 OK\n",
      "Length: 862182613 (822M) [application/zip]\n",
      "Saving to: ‘glove.6B.zip’\n",
      "\n",
      "glove.6B.zip        100%[===================>] 822.24M  19.0MB/s    in 41s     \n",
      "\n",
      "2018-03-20 16:05:45 (20.1 MB/s) - ‘glove.6B.zip’ saved [862182613/862182613]\n",
      "\n"
     ]
    }
   ],
   "source": [
    "!wget http://nlp.stanford.edu/data/glove.6B.zip"
   ]
  },
  {
   "cell_type": "code",
   "execution_count": 3,
   "metadata": {},
   "outputs": [],
   "source": [
    "import zipfile\n",
    "zip_ref = zipfile.ZipFile('glove.6B.zip', 'r')\n",
    "zip_ref.extractall('./')\n",
    "zip_ref.close()"
   ]
  },
  {
   "cell_type": "code",
   "execution_count": 4,
   "metadata": {},
   "outputs": [
    {
     "name": "stdout",
     "output_type": "stream",
     "text": [
      "--2018-03-20 16:06:02--  https://storage.googleapis.com/kaggle-competitions-data/kaggle/8076/train.csv.zip?GoogleAccessId=web-data@kaggle-161607.iam.gserviceaccount.com&Expires=1521812573&Signature=SHWEQ%2BJjP5RTH7WdHtCnUFq6Kjv5e%2FCaxfU8yvk8UmIW04XGVqW9979JQ0kAh3BmamwxT8iysjVuIz2DsrTDQLuFrUWYwh34wRi5cjYzrdkgYmWo5SIDHHkd7%2FHPcOXCF0v5OywlP4wB0RCWPvxaaQyXU%2BwJuhRS5LLrrKBYI%2Bua8V3BBUXpJf%2B0jh7UwpnSQmc5brW8l56cIg2LhaqzWC4C3bi2CvOzUmBELI8Bhem3anQYQdN3kKhWxm2ij3Q2GHhMBia%2BOd0Oqk1%2BuLvN07Zlbe%2FF3yDRWTmF%2BFLoCzrOWoGWlB8qfj90dxXBYN8NVLBfrF7wtmCUUVhqVumJ5w%3D%3D\n",
      "Resolving storage.googleapis.com (storage.googleapis.com)... 172.217.15.80, 2607:f8b0:4004:811::2010\n",
      "Connecting to storage.googleapis.com (storage.googleapis.com)|172.217.15.80|:443... connected.\n",
      "HTTP request sent, awaiting response... 200 OK\n",
      "Length: 27619914 (26M) [application/zip]\n",
      "Saving to: ‘train.csv.zip’\n",
      "\n",
      "train.csv.zip       100%[===================>]  26.34M   103MB/s    in 0.3s    \n",
      "\n",
      "2018-03-20 16:06:03 (103 MB/s) - ‘train.csv.zip’ saved [27619914/27619914]\n",
      "\n"
     ]
    }
   ],
   "source": [
    "!wget --header=\"Host: storage.googleapis.com\" --header=\"User-Agent: Mozilla/5.0 (X11; Linux x86_64) AppleWebKit/537.36 (KHTML, like Gecko) Chrome/58.0.3029.81 Safari/537.36\" --header=\"Accept: text/html,application/xhtml+xml,application/xml;q=0.9,image/webp,*/*;q=0.8\" --header=\"Accept-Language: en-GB,en-US;q=0.8,en;q=0.6\" \"https://storage.googleapis.com/kaggle-competitions-data/kaggle/8076/train.csv.zip?GoogleAccessId=web-data@kaggle-161607.iam.gserviceaccount.com&Expires=1521812573&Signature=SHWEQ%2BJjP5RTH7WdHtCnUFq6Kjv5e%2FCaxfU8yvk8UmIW04XGVqW9979JQ0kAh3BmamwxT8iysjVuIz2DsrTDQLuFrUWYwh34wRi5cjYzrdkgYmWo5SIDHHkd7%2FHPcOXCF0v5OywlP4wB0RCWPvxaaQyXU%2BwJuhRS5LLrrKBYI%2Bua8V3BBUXpJf%2B0jh7UwpnSQmc5brW8l56cIg2LhaqzWC4C3bi2CvOzUmBELI8Bhem3anQYQdN3kKhWxm2ij3Q2GHhMBia%2BOd0Oqk1%2BuLvN07Zlbe%2FF3yDRWTmF%2BFLoCzrOWoGWlB8qfj90dxXBYN8NVLBfrF7wtmCUUVhqVumJ5w%3D%3D\" -O \"train.csv.zip\" -c"
   ]
  },
  {
   "cell_type": "code",
   "execution_count": 5,
   "metadata": {},
   "outputs": [],
   "source": [
    "import zipfile\n",
    "zip_ref = zipfile.ZipFile('train.csv.zip', 'r')\n",
    "zip_ref.extractall('./')\n",
    "zip_ref.close()"
   ]
  },
  {
   "cell_type": "code",
   "execution_count": 6,
   "metadata": {},
   "outputs": [
    {
     "name": "stdout",
     "output_type": "stream",
     "text": [
      "--2018-03-20 16:06:04--  https://storage.googleapis.com/kaggle-competitions-data/kaggle/8076/test.csv.zip?GoogleAccessId=web-data@kaggle-161607.iam.gserviceaccount.com&Expires=1521812594&Signature=iT1U%2FpLBN9XqCKtb2uwGE2jcLuN%2FWSfMt%2F%2FcQUwcfbe4EJ%2Biu07enqKtYZGtVfb4YQEicofRmEkZBnrGCPt%2BiZxi9QWnIe5vnhkCII%2BoCwl%2FsBCqKXrNPmno2jfi2oWk70ME2Ajci04j8xCNynF8I%2FqjQp2VAwxE0wJ1ii0jo5V8PQ7vrJoLH6rmsKgdDbXA2TpFejMdT2g5ZbMTy6LTtx9nZ0YuTnvUvrofLM5BtmZPGiyW%2BXUiZOKT0Vkz69SsSwMaQl2lRQTgxc2pOHus%2FVJYGrjoMf%2ByRV%2F1tpKhMKjzRrWqXSkYE7%2BznqI7VjEGzfisLlwzhYSX%2FIyXTrSjUw%3D%3D\n",
      "Resolving storage.googleapis.com (storage.googleapis.com)... 172.217.15.80, 2607:f8b0:4004:811::2010\n",
      "Connecting to storage.googleapis.com (storage.googleapis.com)|172.217.15.80|:443... connected.\n",
      "HTTP request sent, awaiting response... 200 OK\n",
      "Length: 24577258 (23M) [application/zip]\n",
      "Saving to: ‘test.csv.zip’\n",
      "\n",
      "test.csv.zip        100%[===================>]  23.44M  99.2MB/s    in 0.2s    \n",
      "\n",
      "2018-03-20 16:06:04 (99.2 MB/s) - ‘test.csv.zip’ saved [24577258/24577258]\n",
      "\n"
     ]
    }
   ],
   "source": [
    "!wget --header=\"Host: storage.googleapis.com\" --header=\"User-Agent: Mozilla/5.0 (X11; Linux x86_64) AppleWebKit/537.36 (KHTML, like Gecko) Chrome/58.0.3029.81 Safari/537.36\" --header=\"Accept: text/html,application/xhtml+xml,application/xml;q=0.9,image/webp,*/*;q=0.8\" --header=\"Accept-Language: en-GB,en-US;q=0.8,en;q=0.6\" \"https://storage.googleapis.com/kaggle-competitions-data/kaggle/8076/test.csv.zip?GoogleAccessId=web-data@kaggle-161607.iam.gserviceaccount.com&Expires=1521812594&Signature=iT1U%2FpLBN9XqCKtb2uwGE2jcLuN%2FWSfMt%2F%2FcQUwcfbe4EJ%2Biu07enqKtYZGtVfb4YQEicofRmEkZBnrGCPt%2BiZxi9QWnIe5vnhkCII%2BoCwl%2FsBCqKXrNPmno2jfi2oWk70ME2Ajci04j8xCNynF8I%2FqjQp2VAwxE0wJ1ii0jo5V8PQ7vrJoLH6rmsKgdDbXA2TpFejMdT2g5ZbMTy6LTtx9nZ0YuTnvUvrofLM5BtmZPGiyW%2BXUiZOKT0Vkz69SsSwMaQl2lRQTgxc2pOHus%2FVJYGrjoMf%2ByRV%2F1tpKhMKjzRrWqXSkYE7%2BznqI7VjEGzfisLlwzhYSX%2FIyXTrSjUw%3D%3D\" -O \"test.csv.zip\" -c"
   ]
  },
  {
   "cell_type": "code",
   "execution_count": 7,
   "metadata": {},
   "outputs": [],
   "source": [
    "import zipfile\n",
    "zip_ref = zipfile.ZipFile('test.csv.zip', 'r')\n",
    "zip_ref.extractall('./')\n",
    "zip_ref.close()"
   ]
  },
  {
   "cell_type": "code",
   "execution_count": 8,
   "metadata": {},
   "outputs": [
    {
     "name": "stdout",
     "output_type": "stream",
     "text": [
      "--2018-03-20 16:06:05--  https://storage.googleapis.com/kaggle-competitions-data/kaggle/8076/sample_submission.csv.zip?GoogleAccessId=web-data@kaggle-161607.iam.gserviceaccount.com&Expires=1521813930&Signature=Sy%2B7sOWrrJueDZCRmfQj2mF54voR8878mK07%2FoCf3%2Bqa08zU6S0azAYO7C3k3YI6Yt39dKRgM12Z96wZLcslW96lUxy22r0BbnYzjwr8gR9WgnpevM3NyUOp6HTsvYFNAsHeCXY5hzOjtfTaxie9DWCDUIvVroiIamoS77DOyHcGPbwfgaiqRjlMdmOZOSiE7hjp2ntYaKspnB5VyUR30iZiQ%2BNjsfqYDNUoeVYeYKlIfTRIb4FbGc1Q8Kzetj58ptDtjadOWxlyV5F8H6zjNfGCVkAtuj9uO1KFgQatp18tjN3grXWoaJn6pjghhmVzHRgUmKewPPAwrfAGDPEK%2Fg%3D%3D\n",
      "Resolving storage.googleapis.com (storage.googleapis.com)... 172.217.15.80, 2607:f8b0:4004:811::2010\n",
      "Connecting to storage.googleapis.com (storage.googleapis.com)|172.217.15.80|:443... connected.\n",
      "HTTP request sent, awaiting response... 200 OK\n",
      "Length: 1464269 (1.4M) [application/zip]\n",
      "Saving to: ‘sample_submission.csv.zip’\n",
      "\n",
      "sample_submission.c 100%[===================>]   1.40M  --.-KB/s    in 0.07s   \n",
      "\n",
      "2018-03-20 16:06:05 (19.6 MB/s) - ‘sample_submission.csv.zip’ saved [1464269/1464269]\n",
      "\n"
     ]
    }
   ],
   "source": [
    "!wget --header=\"Host: storage.googleapis.com\" --header=\"User-Agent: Mozilla/5.0 (X11; Linux x86_64) AppleWebKit/537.36 (KHTML, like Gecko) Chrome/58.0.3029.81 Safari/537.36\" --header=\"Accept: text/html,application/xhtml+xml,application/xml;q=0.9,image/webp,*/*;q=0.8\" --header=\"Accept-Language: en-GB,en-US;q=0.8,en;q=0.6\" \"https://storage.googleapis.com/kaggle-competitions-data/kaggle/8076/sample_submission.csv.zip?GoogleAccessId=web-data@kaggle-161607.iam.gserviceaccount.com&Expires=1521813930&Signature=Sy%2B7sOWrrJueDZCRmfQj2mF54voR8878mK07%2FoCf3%2Bqa08zU6S0azAYO7C3k3YI6Yt39dKRgM12Z96wZLcslW96lUxy22r0BbnYzjwr8gR9WgnpevM3NyUOp6HTsvYFNAsHeCXY5hzOjtfTaxie9DWCDUIvVroiIamoS77DOyHcGPbwfgaiqRjlMdmOZOSiE7hjp2ntYaKspnB5VyUR30iZiQ%2BNjsfqYDNUoeVYeYKlIfTRIb4FbGc1Q8Kzetj58ptDtjadOWxlyV5F8H6zjNfGCVkAtuj9uO1KFgQatp18tjN3grXWoaJn6pjghhmVzHRgUmKewPPAwrfAGDPEK%2Fg%3D%3D\" -O \"sample_submission.csv.zip\" -c"
   ]
  },
  {
   "cell_type": "code",
   "execution_count": 9,
   "metadata": {},
   "outputs": [],
   "source": [
    "import zipfile\n",
    "zip_ref = zipfile.ZipFile('sample_submission.csv.zip', 'r')\n",
    "zip_ref.extractall('./')\n",
    "zip_ref.close()"
   ]
  },
  {
   "cell_type": "code",
   "execution_count": 10,
   "metadata": {},
   "outputs": [],
   "source": [
    "embed_size = 50 # how big is each word vector\n",
    "max_features = 150000 # how many unique words to use (i.e num rows in embedding vector)\n",
    "maxlen = 150 # max number of words in a comment to use\n"
   ]
  },
  {
   "cell_type": "code",
   "execution_count": 11,
   "metadata": {},
   "outputs": [],
   "source": [
    "\n",
    "\n",
    "#path = '../input/'\n",
    "#comp = 'jigsaw-toxic-comment-classification-challenge/'\n",
    "EMBEDDING_FILE='./glove.6B.50d.txt'\n",
    "TRAIN_DATA_FILE='./train.csv'\n",
    "TEST_DATA_FILE='./test.csv'\n",
    "\n"
   ]
  },
  {
   "cell_type": "code",
   "execution_count": 12,
   "metadata": {},
   "outputs": [],
   "source": [
    "\n",
    "\n",
    "train = pd.read_csv(TRAIN_DATA_FILE)\n",
    "test = pd.read_csv(TEST_DATA_FILE)\n",
    "\n",
    "list_sentences_train = train[\"comment_text\"].fillna(\"_na_\").values\n",
    "list_classes = [\"toxic\", \"severe_toxic\", \"obscene\", \"threat\", \"insult\", \"identity_hate\"]\n",
    "y = train[list_classes].values\n",
    "list_sentences_test = test[\"comment_text\"].fillna(\"_na_\").values\n",
    "\n"
   ]
  },
  {
   "cell_type": "code",
   "execution_count": 13,
   "metadata": {},
   "outputs": [],
   "source": [
    "tokenizer = Tokenizer(num_words=max_features)\n",
    "tokenizer.fit_on_texts(list(list_sentences_train))\n",
    "list_tokenized_train = tokenizer.texts_to_sequences(list_sentences_train)\n",
    "list_tokenized_test = tokenizer.texts_to_sequences(list_sentences_test)\n",
    "X_t = pad_sequences(list_tokenized_train, maxlen=maxlen)\n",
    "X_te = pad_sequences(list_tokenized_test, maxlen=maxlen)"
   ]
  },
  {
   "cell_type": "code",
   "execution_count": 14,
   "metadata": {},
   "outputs": [],
   "source": [
    "def get_coefs(word,*arr): return word, np.asarray(arr, dtype='float32')\n",
    "embeddings_index = dict(get_coefs(*o.strip().split()) for o in open(EMBEDDING_FILE))"
   ]
  },
  {
   "cell_type": "code",
   "execution_count": 15,
   "metadata": {},
   "outputs": [
    {
     "data": {
      "text/plain": [
       "(0.020940464, 0.6441042)"
      ]
     },
     "execution_count": 15,
     "metadata": {},
     "output_type": "execute_result"
    }
   ],
   "source": [
    "all_embs = np.stack(embeddings_index.values())\n",
    "emb_mean,emb_std = all_embs.mean(), all_embs.std()\n",
    "emb_mean,emb_std\n"
   ]
  },
  {
   "cell_type": "code",
   "execution_count": 16,
   "metadata": {},
   "outputs": [],
   "source": [
    "word_index = tokenizer.word_index\n",
    "nb_words = min(max_features, len(word_index))\n",
    "embedding_matrix = np.random.normal(emb_mean, emb_std, (nb_words, embed_size))\n",
    "for word, i in word_index.items():\n",
    "    if i >= max_features: continue\n",
    "    embedding_vector = embeddings_index.get(word)\n",
    "    if embedding_vector is not None: embedding_matrix[i] = embedding_vector"
   ]
  },
  {
   "cell_type": "code",
   "execution_count": 26,
   "metadata": {},
   "outputs": [],
   "source": [
    "inp = Input(shape=(maxlen,))\n",
    "x = Embedding(max_features, embed_size, weights=[embedding_matrix])(inp)\n",
    "x = Bidirectional(LSTM(50, return_sequences=True, dropout=0.1, recurrent_dropout=0.1))(x)\n",
    "x = GlobalMaxPool1D()(x)\n",
    "x = Dense(50, activation=\"relu\")(x)\n",
    "x = Dropout(0.2)(x)\n",
    "x = Dense(6, activation=\"sigmoid\")(x)\n",
    "model = Model(inputs=inp, outputs=x)\n",
    "model.compile(loss='binary_crossentropy', optimizer='adam', metrics=['accuracy'])"
   ]
  },
  {
   "cell_type": "code",
   "execution_count": 27,
   "metadata": {},
   "outputs": [
    {
     "name": "stdout",
     "output_type": "stream",
     "text": [
      "Epoch 1/1\n",
      "159571/159571 [==============================] - 161s 1ms/step - loss: 0.1148 - acc: 0.9672\n"
     ]
    }
   ],
   "source": [
    "model.fit(X_t, y, batch_size=512, epochs=1);"
   ]
  },
  {
   "cell_type": "code",
   "execution_count": null,
   "metadata": {},
   "outputs": [
    {
     "name": "stdout",
     "output_type": "stream",
     "text": [
      "Epoch 1/1\n",
      "142336/159571 [=========================>....] - ETA: 17s - loss: 0.0554 - acc: 0.9802"
     ]
    }
   ],
   "source": [
    "model.fit(X_t, y, batch_size=512, epochs=1);"
   ]
  },
  {
   "cell_type": "code",
   "execution_count": null,
   "metadata": {},
   "outputs": [],
   "source": [
    "model_json = model.to_json()\n",
    "with open(\"model.json\", \"w\") as json_file:\n",
    "    json_file.write(model_json)\n",
    "# serialize weights to HDF5\n",
    "model.save_weights(\"model.h5\")\n",
    "print(\"Saved model to disk\")"
   ]
  },
  {
   "cell_type": "code",
   "execution_count": null,
   "metadata": {},
   "outputs": [],
   "source": [
    "y_test = model.predict([X_te], batch_size=1024, verbose=1)\n",
    "sample_submission = pd.read_csv('./sample_submission.csv')\n",
    "sample_submission[list_classes] = y_test\n",
    "sample_submission.to_csv('submission-lstm-2.csv', index=False)\n"
   ]
  },
  {
   "cell_type": "code",
   "execution_count": null,
   "metadata": {},
   "outputs": [],
   "source": [
    "from IPython.lib.display import FileLink"
   ]
  },
  {
   "cell_type": "code",
   "execution_count": 8,
   "metadata": {},
   "outputs": [
    {
     "data": {
      "text/html": [
       "<a href='train.csv' target='_blank'>train.csv</a><br>"
      ],
      "text/plain": [
       "/home/ubuntu/project/train.csv"
      ]
     },
     "execution_count": 8,
     "metadata": {},
     "output_type": "execute_result"
    }
   ],
   "source": [
    "FileLink(\"train.csv\")"
   ]
  },
  {
   "cell_type": "code",
   "execution_count": null,
   "metadata": {},
   "outputs": [],
   "source": [
    "FileLink(\"submission-lstm-2.csv\")"
   ]
  },
  {
   "cell_type": "code",
   "execution_count": null,
   "metadata": {},
   "outputs": [],
   "source": [
    "FileLink(\"model.json\")"
   ]
  },
  {
   "cell_type": "code",
   "execution_count": null,
   "metadata": {},
   "outputs": [],
   "source": [
    "FileLink(\"model.h5\")"
   ]
  }
 ],
 "metadata": {
  "kernelspec": {
   "display_name": "Environment (conda_tensorflow_p27)",
   "language": "python",
   "name": "conda_tensorflow_p27"
  },
  "language_info": {
   "codemirror_mode": {
    "name": "ipython",
    "version": 2
   },
   "file_extension": ".py",
   "mimetype": "text/x-python",
   "name": "python",
   "nbconvert_exporter": "python",
   "pygments_lexer": "ipython2",
   "version": "2.7.14"
  }
 },
 "nbformat": 4,
 "nbformat_minor": 2
}
